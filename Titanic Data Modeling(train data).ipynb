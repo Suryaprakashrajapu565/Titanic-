{
 "cells": [
  {
   "cell_type": "code",
   "execution_count": 1,
   "id": "6f06f3c4-d672-4bd6-922f-88905e817eb2",
   "metadata": {},
   "outputs": [],
   "source": [
    "import numpy as np\n",
    "import pandas as pd\n",
    "import matplotlib.pyplot as plt\n",
    "import seaborn as sns\n",
    "import warnings\n",
    "warnings.simplefilter('ignore')"
   ]
  },
  {
   "cell_type": "code",
   "execution_count": 2,
   "id": "f66e6e33-f488-4496-9384-6433c1086077",
   "metadata": {},
   "outputs": [
    {
     "data": {
      "text/html": [
       "<div>\n",
       "<style scoped>\n",
       "    .dataframe tbody tr th:only-of-type {\n",
       "        vertical-align: middle;\n",
       "    }\n",
       "\n",
       "    .dataframe tbody tr th {\n",
       "        vertical-align: top;\n",
       "    }\n",
       "\n",
       "    .dataframe thead th {\n",
       "        text-align: right;\n",
       "    }\n",
       "</style>\n",
       "<table border=\"1\" class=\"dataframe\">\n",
       "  <thead>\n",
       "    <tr style=\"text-align: right;\">\n",
       "      <th></th>\n",
       "      <th>PassengerId</th>\n",
       "      <th>Survived</th>\n",
       "      <th>Pclass</th>\n",
       "      <th>Sex</th>\n",
       "      <th>Age</th>\n",
       "      <th>SibSp</th>\n",
       "      <th>Parch</th>\n",
       "      <th>Fare</th>\n",
       "      <th>Embarked</th>\n",
       "    </tr>\n",
       "  </thead>\n",
       "  <tbody>\n",
       "    <tr>\n",
       "      <th>0</th>\n",
       "      <td>1</td>\n",
       "      <td>0</td>\n",
       "      <td>3</td>\n",
       "      <td>0</td>\n",
       "      <td>22.0</td>\n",
       "      <td>1</td>\n",
       "      <td>0</td>\n",
       "      <td>7.2500</td>\n",
       "      <td>0</td>\n",
       "    </tr>\n",
       "    <tr>\n",
       "      <th>1</th>\n",
       "      <td>2</td>\n",
       "      <td>1</td>\n",
       "      <td>1</td>\n",
       "      <td>1</td>\n",
       "      <td>38.0</td>\n",
       "      <td>1</td>\n",
       "      <td>0</td>\n",
       "      <td>71.2833</td>\n",
       "      <td>1</td>\n",
       "    </tr>\n",
       "    <tr>\n",
       "      <th>2</th>\n",
       "      <td>3</td>\n",
       "      <td>1</td>\n",
       "      <td>3</td>\n",
       "      <td>1</td>\n",
       "      <td>26.0</td>\n",
       "      <td>0</td>\n",
       "      <td>0</td>\n",
       "      <td>7.9250</td>\n",
       "      <td>0</td>\n",
       "    </tr>\n",
       "    <tr>\n",
       "      <th>3</th>\n",
       "      <td>4</td>\n",
       "      <td>1</td>\n",
       "      <td>1</td>\n",
       "      <td>1</td>\n",
       "      <td>35.0</td>\n",
       "      <td>1</td>\n",
       "      <td>0</td>\n",
       "      <td>53.1000</td>\n",
       "      <td>0</td>\n",
       "    </tr>\n",
       "    <tr>\n",
       "      <th>4</th>\n",
       "      <td>5</td>\n",
       "      <td>0</td>\n",
       "      <td>3</td>\n",
       "      <td>0</td>\n",
       "      <td>35.0</td>\n",
       "      <td>0</td>\n",
       "      <td>0</td>\n",
       "      <td>8.0500</td>\n",
       "      <td>0</td>\n",
       "    </tr>\n",
       "  </tbody>\n",
       "</table>\n",
       "</div>"
      ],
      "text/plain": [
       "   PassengerId  Survived  Pclass  Sex   Age  SibSp  Parch     Fare  Embarked\n",
       "0            1         0       3    0  22.0      1      0   7.2500         0\n",
       "1            2         1       1    1  38.0      1      0  71.2833         1\n",
       "2            3         1       3    1  26.0      0      0   7.9250         0\n",
       "3            4         1       1    1  35.0      1      0  53.1000         0\n",
       "4            5         0       3    0  35.0      0      0   8.0500         0"
      ]
     },
     "execution_count": 2,
     "metadata": {},
     "output_type": "execute_result"
    }
   ],
   "source": [
    "d=pd.read_excel(r\"C:\\Users\\RAJAPU SURYA PRAKASH\\TITANIC_DATA(1).xlsx\",index_col=0)\n",
    "d.head()"
   ]
  },
  {
   "cell_type": "code",
   "execution_count": 3,
   "id": "7465db2f-11ed-410d-adc3-ab81cee319d1",
   "metadata": {},
   "outputs": [
    {
     "name": "stdout",
     "output_type": "stream",
     "text": [
      "<class 'pandas.core.frame.DataFrame'>\n",
      "Index: 891 entries, 0 to 890\n",
      "Data columns (total 9 columns):\n",
      " #   Column       Non-Null Count  Dtype  \n",
      "---  ------       --------------  -----  \n",
      " 0   PassengerId  891 non-null    int64  \n",
      " 1   Survived     891 non-null    int64  \n",
      " 2   Pclass       891 non-null    int64  \n",
      " 3   Sex          891 non-null    int64  \n",
      " 4   Age          891 non-null    float64\n",
      " 5   SibSp        891 non-null    int64  \n",
      " 6   Parch        891 non-null    int64  \n",
      " 7   Fare         891 non-null    float64\n",
      " 8   Embarked     891 non-null    int64  \n",
      "dtypes: float64(2), int64(7)\n",
      "memory usage: 69.6 KB\n"
     ]
    }
   ],
   "source": [
    "d.info()"
   ]
  },
  {
   "cell_type": "code",
   "execution_count": 4,
   "id": "c6fe5798-851d-4f1b-99e3-80721b862f65",
   "metadata": {},
   "outputs": [
    {
     "data": {
      "text/plain": [
       "PassengerId    0\n",
       "Survived       0\n",
       "Pclass         0\n",
       "Sex            0\n",
       "Age            0\n",
       "SibSp          0\n",
       "Parch          0\n",
       "Fare           0\n",
       "Embarked       0\n",
       "dtype: int64"
      ]
     },
     "execution_count": 4,
     "metadata": {},
     "output_type": "execute_result"
    }
   ],
   "source": [
    "d.isnull().sum()"
   ]
  },
  {
   "cell_type": "code",
   "execution_count": 5,
   "id": "24342da1-d1c6-4285-802e-76db9d1107b8",
   "metadata": {},
   "outputs": [
    {
     "data": {
      "text/html": [
       "<div>\n",
       "<style scoped>\n",
       "    .dataframe tbody tr th:only-of-type {\n",
       "        vertical-align: middle;\n",
       "    }\n",
       "\n",
       "    .dataframe tbody tr th {\n",
       "        vertical-align: top;\n",
       "    }\n",
       "\n",
       "    .dataframe thead th {\n",
       "        text-align: right;\n",
       "    }\n",
       "</style>\n",
       "<table border=\"1\" class=\"dataframe\">\n",
       "  <thead>\n",
       "    <tr style=\"text-align: right;\">\n",
       "      <th></th>\n",
       "      <th>PassengerId</th>\n",
       "      <th>Survived</th>\n",
       "      <th>Pclass</th>\n",
       "      <th>Sex</th>\n",
       "      <th>Age</th>\n",
       "      <th>SibSp</th>\n",
       "      <th>Parch</th>\n",
       "      <th>Fare</th>\n",
       "      <th>Embarked</th>\n",
       "    </tr>\n",
       "  </thead>\n",
       "  <tbody>\n",
       "    <tr>\n",
       "      <th>count</th>\n",
       "      <td>891.000000</td>\n",
       "      <td>891.000000</td>\n",
       "      <td>891.000000</td>\n",
       "      <td>891.000000</td>\n",
       "      <td>891.000000</td>\n",
       "      <td>891.000000</td>\n",
       "      <td>891.000000</td>\n",
       "      <td>891.000000</td>\n",
       "      <td>891.000000</td>\n",
       "    </tr>\n",
       "    <tr>\n",
       "      <th>mean</th>\n",
       "      <td>446.000000</td>\n",
       "      <td>0.383838</td>\n",
       "      <td>2.308642</td>\n",
       "      <td>0.352413</td>\n",
       "      <td>29.699118</td>\n",
       "      <td>0.523008</td>\n",
       "      <td>0.381594</td>\n",
       "      <td>32.204208</td>\n",
       "      <td>0.361392</td>\n",
       "    </tr>\n",
       "    <tr>\n",
       "      <th>std</th>\n",
       "      <td>257.353842</td>\n",
       "      <td>0.486592</td>\n",
       "      <td>0.836071</td>\n",
       "      <td>0.477990</td>\n",
       "      <td>13.002015</td>\n",
       "      <td>1.102743</td>\n",
       "      <td>0.806057</td>\n",
       "      <td>49.693429</td>\n",
       "      <td>0.635673</td>\n",
       "    </tr>\n",
       "    <tr>\n",
       "      <th>min</th>\n",
       "      <td>1.000000</td>\n",
       "      <td>0.000000</td>\n",
       "      <td>1.000000</td>\n",
       "      <td>0.000000</td>\n",
       "      <td>0.420000</td>\n",
       "      <td>0.000000</td>\n",
       "      <td>0.000000</td>\n",
       "      <td>0.000000</td>\n",
       "      <td>0.000000</td>\n",
       "    </tr>\n",
       "    <tr>\n",
       "      <th>25%</th>\n",
       "      <td>223.500000</td>\n",
       "      <td>0.000000</td>\n",
       "      <td>2.000000</td>\n",
       "      <td>0.000000</td>\n",
       "      <td>22.000000</td>\n",
       "      <td>0.000000</td>\n",
       "      <td>0.000000</td>\n",
       "      <td>7.910400</td>\n",
       "      <td>0.000000</td>\n",
       "    </tr>\n",
       "    <tr>\n",
       "      <th>50%</th>\n",
       "      <td>446.000000</td>\n",
       "      <td>0.000000</td>\n",
       "      <td>3.000000</td>\n",
       "      <td>0.000000</td>\n",
       "      <td>29.699118</td>\n",
       "      <td>0.000000</td>\n",
       "      <td>0.000000</td>\n",
       "      <td>14.454200</td>\n",
       "      <td>0.000000</td>\n",
       "    </tr>\n",
       "    <tr>\n",
       "      <th>75%</th>\n",
       "      <td>668.500000</td>\n",
       "      <td>1.000000</td>\n",
       "      <td>3.000000</td>\n",
       "      <td>1.000000</td>\n",
       "      <td>35.000000</td>\n",
       "      <td>1.000000</td>\n",
       "      <td>0.000000</td>\n",
       "      <td>31.000000</td>\n",
       "      <td>1.000000</td>\n",
       "    </tr>\n",
       "    <tr>\n",
       "      <th>max</th>\n",
       "      <td>891.000000</td>\n",
       "      <td>1.000000</td>\n",
       "      <td>3.000000</td>\n",
       "      <td>1.000000</td>\n",
       "      <td>80.000000</td>\n",
       "      <td>8.000000</td>\n",
       "      <td>6.000000</td>\n",
       "      <td>512.329200</td>\n",
       "      <td>2.000000</td>\n",
       "    </tr>\n",
       "  </tbody>\n",
       "</table>\n",
       "</div>"
      ],
      "text/plain": [
       "       PassengerId    Survived      Pclass         Sex         Age  \\\n",
       "count   891.000000  891.000000  891.000000  891.000000  891.000000   \n",
       "mean    446.000000    0.383838    2.308642    0.352413   29.699118   \n",
       "std     257.353842    0.486592    0.836071    0.477990   13.002015   \n",
       "min       1.000000    0.000000    1.000000    0.000000    0.420000   \n",
       "25%     223.500000    0.000000    2.000000    0.000000   22.000000   \n",
       "50%     446.000000    0.000000    3.000000    0.000000   29.699118   \n",
       "75%     668.500000    1.000000    3.000000    1.000000   35.000000   \n",
       "max     891.000000    1.000000    3.000000    1.000000   80.000000   \n",
       "\n",
       "            SibSp       Parch        Fare    Embarked  \n",
       "count  891.000000  891.000000  891.000000  891.000000  \n",
       "mean     0.523008    0.381594   32.204208    0.361392  \n",
       "std      1.102743    0.806057   49.693429    0.635673  \n",
       "min      0.000000    0.000000    0.000000    0.000000  \n",
       "25%      0.000000    0.000000    7.910400    0.000000  \n",
       "50%      0.000000    0.000000   14.454200    0.000000  \n",
       "75%      1.000000    0.000000   31.000000    1.000000  \n",
       "max      8.000000    6.000000  512.329200    2.000000  "
      ]
     },
     "execution_count": 5,
     "metadata": {},
     "output_type": "execute_result"
    }
   ],
   "source": [
    "d.describe(include='all')"
   ]
  },
  {
   "cell_type": "code",
   "execution_count": 6,
   "id": "e2e94820-fba1-44e4-a076-af06e16405e6",
   "metadata": {},
   "outputs": [
    {
     "data": {
      "text/plain": [
       "Index(['PassengerId', 'Survived', 'Pclass', 'Sex', 'Age', 'SibSp', 'Parch',\n",
       "       'Fare', 'Embarked'],\n",
       "      dtype='object')"
      ]
     },
     "execution_count": 6,
     "metadata": {},
     "output_type": "execute_result"
    }
   ],
   "source": [
    "d.columns"
   ]
  },
  {
   "cell_type": "code",
   "execution_count": 7,
   "id": "595e41c3-c4dd-4a0d-bcca-569bdf32c8dc",
   "metadata": {},
   "outputs": [
    {
     "data": {
      "text/plain": [
       "0"
      ]
     },
     "execution_count": 7,
     "metadata": {},
     "output_type": "execute_result"
    }
   ],
   "source": [
    "d.duplicated().sum()"
   ]
  },
  {
   "cell_type": "code",
   "execution_count": 8,
   "id": "cebdbf01-3693-4ddc-a1a1-f0fa157ca2f7",
   "metadata": {},
   "outputs": [
    {
     "data": {
      "text/plain": [
       "(891, 9)"
      ]
     },
     "execution_count": 8,
     "metadata": {},
     "output_type": "execute_result"
    }
   ],
   "source": [
    "d.shape"
   ]
  },
  {
   "cell_type": "code",
   "execution_count": 9,
   "id": "30a88031-a066-40f1-a8f8-f1fe94ea6ccb",
   "metadata": {},
   "outputs": [
    {
     "data": {
      "text/plain": [
       "['PassengerId',\n",
       " 'Survived',\n",
       " 'Pclass',\n",
       " 'Sex',\n",
       " 'Age',\n",
       " 'SibSp',\n",
       " 'Parch',\n",
       " 'Fare',\n",
       " 'Embarked']"
      ]
     },
     "execution_count": 9,
     "metadata": {},
     "output_type": "execute_result"
    }
   ],
   "source": [
    "d.columns.tolist()"
   ]
  },
  {
   "cell_type": "code",
   "execution_count": 10,
   "id": "c5a4e673-622e-4295-b388-dd246763af51",
   "metadata": {},
   "outputs": [],
   "source": [
    "continous=['PassengerId','Age','Fare']\n",
    "discrete_count=['Survived','Pclass','Sex','SibSp','Parch','Embarked']"
   ]
  },
  {
   "cell_type": "code",
   "execution_count": 11,
   "id": "5e4b9924-ad03-45f2-ab44-daa7a64a633f",
   "metadata": {},
   "outputs": [
    {
     "data": {
      "text/html": [
       "<div>\n",
       "<style scoped>\n",
       "    .dataframe tbody tr th:only-of-type {\n",
       "        vertical-align: middle;\n",
       "    }\n",
       "\n",
       "    .dataframe tbody tr th {\n",
       "        vertical-align: top;\n",
       "    }\n",
       "\n",
       "    .dataframe thead th {\n",
       "        text-align: right;\n",
       "    }\n",
       "</style>\n",
       "<table border=\"1\" class=\"dataframe\">\n",
       "  <thead>\n",
       "    <tr style=\"text-align: right;\">\n",
       "      <th></th>\n",
       "      <th>PassengerId</th>\n",
       "      <th>Age</th>\n",
       "      <th>Fare</th>\n",
       "    </tr>\n",
       "  </thead>\n",
       "  <tbody>\n",
       "    <tr>\n",
       "      <th>count</th>\n",
       "      <td>891.000000</td>\n",
       "      <td>891.000000</td>\n",
       "      <td>891.000000</td>\n",
       "    </tr>\n",
       "    <tr>\n",
       "      <th>mean</th>\n",
       "      <td>446.000000</td>\n",
       "      <td>29.699118</td>\n",
       "      <td>32.204208</td>\n",
       "    </tr>\n",
       "    <tr>\n",
       "      <th>std</th>\n",
       "      <td>257.353842</td>\n",
       "      <td>13.002015</td>\n",
       "      <td>49.693429</td>\n",
       "    </tr>\n",
       "    <tr>\n",
       "      <th>min</th>\n",
       "      <td>1.000000</td>\n",
       "      <td>0.420000</td>\n",
       "      <td>0.000000</td>\n",
       "    </tr>\n",
       "    <tr>\n",
       "      <th>25%</th>\n",
       "      <td>223.500000</td>\n",
       "      <td>22.000000</td>\n",
       "      <td>7.910400</td>\n",
       "    </tr>\n",
       "    <tr>\n",
       "      <th>50%</th>\n",
       "      <td>446.000000</td>\n",
       "      <td>29.699118</td>\n",
       "      <td>14.454200</td>\n",
       "    </tr>\n",
       "    <tr>\n",
       "      <th>75%</th>\n",
       "      <td>668.500000</td>\n",
       "      <td>35.000000</td>\n",
       "      <td>31.000000</td>\n",
       "    </tr>\n",
       "    <tr>\n",
       "      <th>max</th>\n",
       "      <td>891.000000</td>\n",
       "      <td>80.000000</td>\n",
       "      <td>512.329200</td>\n",
       "    </tr>\n",
       "  </tbody>\n",
       "</table>\n",
       "</div>"
      ],
      "text/plain": [
       "       PassengerId         Age        Fare\n",
       "count   891.000000  891.000000  891.000000\n",
       "mean    446.000000   29.699118   32.204208\n",
       "std     257.353842   13.002015   49.693429\n",
       "min       1.000000    0.420000    0.000000\n",
       "25%     223.500000   22.000000    7.910400\n",
       "50%     446.000000   29.699118   14.454200\n",
       "75%     668.500000   35.000000   31.000000\n",
       "max     891.000000   80.000000  512.329200"
      ]
     },
     "execution_count": 11,
     "metadata": {},
     "output_type": "execute_result"
    }
   ],
   "source": [
    "d[continous].describe()"
   ]
  },
  {
   "cell_type": "code",
   "execution_count": 12,
   "id": "f1c9d969-4b0e-4d87-a129-fe58db5278eb",
   "metadata": {},
   "outputs": [
    {
     "data": {
      "text/html": [
       "<div>\n",
       "<style scoped>\n",
       "    .dataframe tbody tr th:only-of-type {\n",
       "        vertical-align: middle;\n",
       "    }\n",
       "\n",
       "    .dataframe tbody tr th {\n",
       "        vertical-align: top;\n",
       "    }\n",
       "\n",
       "    .dataframe thead th {\n",
       "        text-align: right;\n",
       "    }\n",
       "</style>\n",
       "<table border=\"1\" class=\"dataframe\">\n",
       "  <thead>\n",
       "    <tr style=\"text-align: right;\">\n",
       "      <th></th>\n",
       "      <th>PassengerId</th>\n",
       "      <th>Age</th>\n",
       "      <th>Fare</th>\n",
       "    </tr>\n",
       "  </thead>\n",
       "  <tbody>\n",
       "    <tr>\n",
       "      <th>PassengerId</th>\n",
       "      <td>1.000000</td>\n",
       "      <td>0.033207</td>\n",
       "      <td>0.012658</td>\n",
       "    </tr>\n",
       "    <tr>\n",
       "      <th>Age</th>\n",
       "      <td>0.033207</td>\n",
       "      <td>1.000000</td>\n",
       "      <td>0.091566</td>\n",
       "    </tr>\n",
       "    <tr>\n",
       "      <th>Fare</th>\n",
       "      <td>0.012658</td>\n",
       "      <td>0.091566</td>\n",
       "      <td>1.000000</td>\n",
       "    </tr>\n",
       "  </tbody>\n",
       "</table>\n",
       "</div>"
      ],
      "text/plain": [
       "             PassengerId       Age      Fare\n",
       "PassengerId     1.000000  0.033207  0.012658\n",
       "Age             0.033207  1.000000  0.091566\n",
       "Fare            0.012658  0.091566  1.000000"
      ]
     },
     "execution_count": 12,
     "metadata": {},
     "output_type": "execute_result"
    }
   ],
   "source": [
    "d[continous].corr()"
   ]
  },
  {
   "cell_type": "code",
   "execution_count": 13,
   "id": "429adca4-6163-4d9f-9b2b-eda5cc0ca58a",
   "metadata": {},
   "outputs": [
    {
     "data": {
      "image/png": "[encoded data removed]",
      "text/plain": [
       "<Figure size 640x480 with 2 Axes>"
      ]
     },
     "metadata": {},
     "output_type": "display_data"
    }
   ],
   "source": [
    "sns.heatmap(d[continous].corr(),annot=True)\n",
    "plt.show()"
   ]
  },
  {
   "cell_type": "code",
   "execution_count": 14,
   "id": "ca689b18-289d-4826-be8b-eec816c94102",
   "metadata": {},
   "outputs": [],
   "source": [
    "X=d.drop('Survived',axis=1)\n",
    "y=d['Survived']"
   ]
  },
  {
   "cell_type": "code",
   "execution_count": 15,
   "id": "7d266c19-499e-4e69-999b-be9791f63187",
   "metadata": {},
   "outputs": [
    {
     "data": {
      "text/plain": [
       "Index(['PassengerId', 'Survived', 'Pclass', 'Sex', 'Age', 'SibSp', 'Parch',\n",
       "       'Fare', 'Embarked'],\n",
       "      dtype='object')"
      ]
     },
     "execution_count": 15,
     "metadata": {},
     "output_type": "execute_result"
    }
   ],
   "source": [
    "d.columns"
   ]
  },
  {
   "cell_type": "code",
   "execution_count": 16,
   "id": "0deba17b-b3ad-4914-a14f-610e4f9ddd1a",
   "metadata": {},
   "outputs": [
    {
     "name": "stdout",
     "output_type": "stream",
     "text": [
      "best random state number: 8\n"
     ]
    }
   ],
   "source": [
    "Train=[]\n",
    "CV=[]\n",
    "for i in range(0,100):\n",
    "    from sklearn.model_selection import train_test_split\n",
    "    X_train,X_test,y_train,y_test=train_test_split(X,y,test_size=0.2,random_state=i)\n",
    "    from sklearn.linear_model import LogisticRegression\n",
    "    model=LogisticRegression()\n",
    "    model.fit(X_train,y_train)\n",
    "    ypred_train=model.predict(X_train)\n",
    "    from sklearn.metrics import accuracy_score\n",
    "    Train.append(accuracy_score(y_train,ypred_train))\n",
    "    from sklearn.model_selection import cross_val_score\n",
    "    CV.append(cross_val_score(model,X_train,y_train,cv=5).mean())\n",
    "\n",
    "em=pd.DataFrame({'Train':Train,'CV':CV})\n",
    "gm=em[(abs(em['Train']-em['CV'])<=0.05)]\n",
    "rs=gm[gm['CV']==gm['CV'].max()].index.tolist()[0]\n",
    "print('best random state number:',rs)"
   ]
  },
  {
   "cell_type": "markdown",
   "id": "d737bb07-b850-4cb6-bef5-1e6a45e72357",
   "metadata": {},
   "source": [
    "1.LogisticRegression\n",
    "-"
   ]
  },
  {
   "cell_type": "code",
   "execution_count": 17,
   "id": "da93147a-e017-4ebf-b2aa-687eae2dd091",
   "metadata": {},
   "outputs": [],
   "source": [
    "from sklearn.model_selection import train_test_split\n",
    "X_train,X_test,y_train,y_test=train_test_split(X,y,test_size=0.2,random_state=8)"
   ]
  },
  {
   "cell_type": "code",
   "execution_count": 18,
   "id": "9767ef84-6812-4c41-af98-30ea64318ed2",
   "metadata": {},
   "outputs": [
    {
     "name": "stdout",
     "output_type": "stream",
     "text": [
      "Train Accuracy: 0.8188202247191011\n",
      "Cross Validation Score: 0.7957253154227606\n"
     ]
    }
   ],
   "source": [
    "from sklearn.linear_model import LogisticRegression\n",
    "from sklearn.model_selection import cross_val_score\n",
    "log_reg=LogisticRegression(random_state=8)\n",
    "log_reg.fit(X_train,y_train)\n",
    "ypred_train=log_reg.predict(X_train)\n",
    "print('Train Accuracy:',accuracy_score(ypred_train,y_train))\n",
    "print('Cross Validation Score:',cross_val_score(log_reg,X,y).mean())"
   ]
  },
  {
   "cell_type": "markdown",
   "id": "23802930-d954-48b8-a996-51a2c94e18a7",
   "metadata": {},
   "source": [
    "2.KNN\n",
    "-"
   ]
  },
  {
   "cell_type": "code",
   "execution_count": 19,
   "id": "5b33c0ea-81ff-4e02-af15-716cdead5c66",
   "metadata": {},
   "outputs": [
    {
     "name": "stdout",
     "output_type": "stream",
     "text": [
      "Train Accuracy: 0.7471910112359551\n",
      "CV Score: 0.5408762789529848\n"
     ]
    }
   ],
   "source": [
    "from sklearn.neighbors import KNeighborsClassifier\n",
    "model=KNeighborsClassifier()\n",
    "model.fit(X_train,y_train)\n",
    "ypred_train=model.predict(X_train)\n",
    "print('Train Accuracy:',accuracy_score(ypred_train,y_train))\n",
    "print('CV Score:',cross_val_score(model,X,y).mean())"
   ]
  },
  {
   "cell_type": "code",
   "execution_count": 20,
   "id": "f08d47ce-f6ce-4bd0-b91f-ce7482c1a83c",
   "metadata": {},
   "outputs": [
    {
     "data": {
      "text/plain": [
       "{'n_neighbors': 27}"
      ]
     },
     "execution_count": 20,
     "metadata": {},
     "output_type": "execute_result"
    }
   ],
   "source": [
    "from sklearn.neighbors import KNeighborsClassifier\n",
    "from sklearn.model_selection import GridSearchCV\n",
    "model_knn=KNeighborsClassifier()\n",
    "param_grid={'n_neighbors':list(range(1,50))}\n",
    "grid=GridSearchCV(model_knn,param_grid)\n",
    "grid.fit(X_train,y_train)\n",
    "grid.best_params_"
   ]
  },
  {
   "cell_type": "code",
   "execution_count": 21,
   "id": "48e063ce-5179-4723-8eb3-5bad7cd8c69d",
   "metadata": {},
   "outputs": [
    {
     "name": "stdout",
     "output_type": "stream",
     "text": [
      "Train Accuracy: 0.6867977528089888\n",
      "Cross Validation Score: 0.6037976272675916\n"
     ]
    }
   ],
   "source": [
    "from sklearn.model_selection import cross_val_score\n",
    "model_knn=KNeighborsClassifier(n_neighbors=27)\n",
    "model_knn.fit(X_train,y_train)\n",
    "ypred_train=model_knn.predict(X_train)\n",
    "\n",
    "print('Train Accuracy:',accuracy_score(ypred_train,y_train))\n",
    "\n",
    "print('Cross Validation Score:',cross_val_score(model_knn,X,y).mean())"
   ]
  },
  {
   "cell_type": "markdown",
   "id": "133a60f5-7435-45ae-bba3-3b12e8b2a6da",
   "metadata": {},
   "source": [
    "3.SVM\n",
    "-"
   ]
  },
  {
   "cell_type": "code",
   "execution_count": 22,
   "id": "134f1350-5d08-4834-9abc-70bbc976c4d7",
   "metadata": {},
   "outputs": [
    {
     "name": "stdout",
     "output_type": "stream",
     "text": [
      "Train Accuracy: 0.6558988764044944\n",
      "CV Score: 0.6397589605172305\n"
     ]
    }
   ],
   "source": [
    "from sklearn.svm import SVC\n",
    "model_svc=SVC(random_state=8)\n",
    "model_svc.fit(X_train,y_train)\n",
    "ypred_train=model_svc.predict(X_train)\n",
    "print('Train Accuracy:',accuracy_score(ypred_train,y_train))\n",
    "print('CV Score:',cross_val_score(model_svc,X,y).mean())"
   ]
  },
  {
   "cell_type": "code",
   "execution_count": 23,
   "id": "08999fb2-939c-49fb-887e-661381d321c2",
   "metadata": {},
   "outputs": [
    {
     "data": {
      "text/plain": [
       "{'C': 10, 'kernel': 'linear'}"
      ]
     },
     "execution_count": 23,
     "metadata": {},
     "output_type": "execute_result"
    }
   ],
   "source": [
    "from sklearn.model_selection import GridSearchCV\n",
    "model_svm=SVC(random_state=8)\n",
    "param_grid={'C':[0.01,0.02,0.1,10],'kernel':['linear','rbf','sigmoid','poly']}\n",
    "grid_svm=GridSearchCV(model_svm,param_grid)\n",
    "grid_svm.fit(X_train,y_train)\n",
    "grid_svm.best_params_"
   ]
  },
  {
   "cell_type": "code",
   "execution_count": 24,
   "id": "7430187c-2cc2-4ce3-8796-23abd9b340a4",
   "metadata": {},
   "outputs": [
    {
     "name": "stdout",
     "output_type": "stream",
     "text": [
      "Train Accuracy: 0.8117977528089888\n",
      "CV Score: 0.7957567007720796\n"
     ]
    }
   ],
   "source": [
    "model=SVC(kernel='linear',C=10)\n",
    "X_train,X_test,y_train,y_test=train_test_split(X,y,test_size=0.2,random_state=8)\n",
    "model.fit(X_train,y_train)\n",
    "ypred_train=model.predict(X_train)\n",
    "print('Train Accuracy:',accuracy_score(ypred_train,y_train))\n",
    "print('CV Score:',cross_val_score(model,X,y).mean())"
   ]
  },
  {
   "cell_type": "markdown",
   "id": "ac1ba2d7-d3cd-47fb-ba3d-afebbbd6a570",
   "metadata": {},
   "source": [
    "4.DecisionTree\n",
    "-"
   ]
  },
  {
   "cell_type": "code",
   "execution_count": 25,
   "id": "41ac4a09-07ba-4800-915f-fd5f9956a3cc",
   "metadata": {},
   "outputs": [
    {
     "data": {
      "text/html": [
       "<div>\n",
       "<style scoped>\n",
       "    .dataframe tbody tr th:only-of-type {\n",
       "        vertical-align: middle;\n",
       "    }\n",
       "\n",
       "    .dataframe tbody tr th {\n",
       "        vertical-align: top;\n",
       "    }\n",
       "\n",
       "    .dataframe thead th {\n",
       "        text-align: right;\n",
       "    }\n",
       "</style>\n",
       "<table border=\"1\" class=\"dataframe\">\n",
       "  <thead>\n",
       "    <tr style=\"text-align: right;\">\n",
       "      <th></th>\n",
       "      <th>PassengerId</th>\n",
       "      <th>Survived</th>\n",
       "      <th>Pclass</th>\n",
       "      <th>Sex</th>\n",
       "      <th>Age</th>\n",
       "      <th>SibSp</th>\n",
       "      <th>Parch</th>\n",
       "      <th>Fare</th>\n",
       "      <th>Embarked</th>\n",
       "    </tr>\n",
       "  </thead>\n",
       "  <tbody>\n",
       "    <tr>\n",
       "      <th>count</th>\n",
       "      <td>891.000000</td>\n",
       "      <td>891.000000</td>\n",
       "      <td>891.000000</td>\n",
       "      <td>891.000000</td>\n",
       "      <td>891.000000</td>\n",
       "      <td>891.000000</td>\n",
       "      <td>891.000000</td>\n",
       "      <td>891.000000</td>\n",
       "      <td>891.000000</td>\n",
       "    </tr>\n",
       "    <tr>\n",
       "      <th>mean</th>\n",
       "      <td>446.000000</td>\n",
       "      <td>0.383838</td>\n",
       "      <td>2.308642</td>\n",
       "      <td>0.352413</td>\n",
       "      <td>29.699118</td>\n",
       "      <td>0.523008</td>\n",
       "      <td>0.381594</td>\n",
       "      <td>32.204208</td>\n",
       "      <td>0.361392</td>\n",
       "    </tr>\n",
       "    <tr>\n",
       "      <th>std</th>\n",
       "      <td>257.353842</td>\n",
       "      <td>0.486592</td>\n",
       "      <td>0.836071</td>\n",
       "      <td>0.477990</td>\n",
       "      <td>13.002015</td>\n",
       "      <td>1.102743</td>\n",
       "      <td>0.806057</td>\n",
       "      <td>49.693429</td>\n",
       "      <td>0.635673</td>\n",
       "    </tr>\n",
       "    <tr>\n",
       "      <th>min</th>\n",
       "      <td>1.000000</td>\n",
       "      <td>0.000000</td>\n",
       "      <td>1.000000</td>\n",
       "      <td>0.000000</td>\n",
       "      <td>0.420000</td>\n",
       "      <td>0.000000</td>\n",
       "      <td>0.000000</td>\n",
       "      <td>0.000000</td>\n",
       "      <td>0.000000</td>\n",
       "    </tr>\n",
       "    <tr>\n",
       "      <th>25%</th>\n",
       "      <td>223.500000</td>\n",
       "      <td>0.000000</td>\n",
       "      <td>2.000000</td>\n",
       "      <td>0.000000</td>\n",
       "      <td>22.000000</td>\n",
       "      <td>0.000000</td>\n",
       "      <td>0.000000</td>\n",
       "      <td>7.910400</td>\n",
       "      <td>0.000000</td>\n",
       "    </tr>\n",
       "    <tr>\n",
       "      <th>50%</th>\n",
       "      <td>446.000000</td>\n",
       "      <td>0.000000</td>\n",
       "      <td>3.000000</td>\n",
       "      <td>0.000000</td>\n",
       "      <td>29.699118</td>\n",
       "      <td>0.000000</td>\n",
       "      <td>0.000000</td>\n",
       "      <td>14.454200</td>\n",
       "      <td>0.000000</td>\n",
       "    </tr>\n",
       "    <tr>\n",
       "      <th>75%</th>\n",
       "      <td>668.500000</td>\n",
       "      <td>1.000000</td>\n",
       "      <td>3.000000</td>\n",
       "      <td>1.000000</td>\n",
       "      <td>35.000000</td>\n",
       "      <td>1.000000</td>\n",
       "      <td>0.000000</td>\n",
       "      <td>31.000000</td>\n",
       "      <td>1.000000</td>\n",
       "    </tr>\n",
       "    <tr>\n",
       "      <th>max</th>\n",
       "      <td>891.000000</td>\n",
       "      <td>1.000000</td>\n",
       "      <td>3.000000</td>\n",
       "      <td>1.000000</td>\n",
       "      <td>80.000000</td>\n",
       "      <td>8.000000</td>\n",
       "      <td>6.000000</td>\n",
       "      <td>512.329200</td>\n",
       "      <td>2.000000</td>\n",
       "    </tr>\n",
       "  </tbody>\n",
       "</table>\n",
       "</div>"
      ],
      "text/plain": [
       "       PassengerId    Survived      Pclass         Sex         Age  \\\n",
       "count   891.000000  891.000000  891.000000  891.000000  891.000000   \n",
       "mean    446.000000    0.383838    2.308642    0.352413   29.699118   \n",
       "std     257.353842    0.486592    0.836071    0.477990   13.002015   \n",
       "min       1.000000    0.000000    1.000000    0.000000    0.420000   \n",
       "25%     223.500000    0.000000    2.000000    0.000000   22.000000   \n",
       "50%     446.000000    0.000000    3.000000    0.000000   29.699118   \n",
       "75%     668.500000    1.000000    3.000000    1.000000   35.000000   \n",
       "max     891.000000    1.000000    3.000000    1.000000   80.000000   \n",
       "\n",
       "            SibSp       Parch        Fare    Embarked  \n",
       "count  891.000000  891.000000  891.000000  891.000000  \n",
       "mean     0.523008    0.381594   32.204208    0.361392  \n",
       "std      1.102743    0.806057   49.693429    0.635673  \n",
       "min      0.000000    0.000000    0.000000    0.000000  \n",
       "25%      0.000000    0.000000    7.910400    0.000000  \n",
       "50%      0.000000    0.000000   14.454200    0.000000  \n",
       "75%      1.000000    0.000000   31.000000    1.000000  \n",
       "max      8.000000    6.000000  512.329200    2.000000  "
      ]
     },
     "execution_count": 25,
     "metadata": {},
     "output_type": "execute_result"
    }
   ],
   "source": [
    "d.describe(include='all')"
   ]
  },
  {
   "cell_type": "code",
   "execution_count": 26,
   "id": "11148bd5-94af-4b64-a0a3-4f30ed37b441",
   "metadata": {},
   "outputs": [
    {
     "name": "stdout",
     "output_type": "stream",
     "text": [
      "Train Accuracy: 1.0\n",
      "CV Score: 0.754403364509447\n"
     ]
    }
   ],
   "source": [
    "from sklearn.tree import DecisionTreeClassifier\n",
    "dt_default=DecisionTreeClassifier(random_state=8)\n",
    "dt_default.fit(X_train,y_train)\n",
    "ypred_train=dt_default.predict(X_train)\n",
    "print('Train Accuracy:',accuracy_score(y_train,ypred_train))\n",
    "print('CV Score:',cross_val_score(dt_default,X,y).mean())"
   ]
  },
  {
   "cell_type": "code",
   "execution_count": 27,
   "id": "052cd548-a6ea-48e6-9e29-dbd2cc4c9d7c",
   "metadata": {},
   "outputs": [
    {
     "data": {
      "text/plain": [
       "{'criterion': 'entropy', 'max_depth': 3}"
      ]
     },
     "execution_count": 27,
     "metadata": {},
     "output_type": "execute_result"
    }
   ],
   "source": [
    "DT=DecisionTreeClassifier(random_state=8)\n",
    "param_grid={'criterion':['gini','entropy'],'max_depth':list(range(1,10))}\n",
    "grid_dt=GridSearchCV(DT,param_grid)\n",
    "grid_dt.fit(X_train,y_train)\n",
    "grid_dt.best_params_"
   ]
  },
  {
   "cell_type": "code",
   "execution_count": 28,
   "id": "3d3a60f6-9420-4c0a-8aec-2f88d94d9f09",
   "metadata": {},
   "outputs": [
    {
     "data": {
      "text/plain": [
       "['Pclass', 'Sex', 'Age', 'Fare']"
      ]
     },
     "execution_count": 28,
     "metadata": {},
     "output_type": "execute_result"
    }
   ],
   "source": [
    "feats_dt=pd.DataFrame(data=grid_dt.best_estimator_.feature_importances_,index=X.columns,columns=['Importance'])\n",
    "important_feature_list_dt=feats_dt[feats_dt['Importance']>0].index.tolist()\n",
    "important_feature_list_dt"
   ]
  },
  {
   "cell_type": "code",
   "execution_count": 29,
   "id": "9ee55dae-b91b-4bba-b390-ac691aad77f0",
   "metadata": {},
   "outputs": [
    {
     "name": "stdout",
     "output_type": "stream",
     "text": [
      "Train Accuracy: 0.8328651685393258\n",
      "Cross Validation Score: 0.815931203314293\n"
     ]
    }
   ],
   "source": [
    "X_imp=X[important_feature_list_dt]\n",
    "X_train_dt,X_test_dt,y_train_dt,y_test_dt=train_test_split(X_imp,y,test_size=0.2,random_state=8)\n",
    "final_dt=DecisionTreeClassifier(criterion='entropy',max_depth=3,random_state=8)\n",
    "final_dt.fit(X_train_dt,y_train_dt)\n",
    "ypred_train_dt=final_dt.predict(X_train_dt)\n",
    "\n",
    "print('Train Accuracy:',accuracy_score(ypred_train_dt,y_train_dt))\n",
    "\n",
    "print('Cross Validation Score:',cross_val_score(final_dt,X_imp,y).mean())"
   ]
  },
  {
   "cell_type": "markdown",
   "id": "f227a3e4-11f8-4b46-a5f6-26133d168f25",
   "metadata": {},
   "source": [
    "5.RandomForestClassifier\n",
    "-"
   ]
  },
  {
   "cell_type": "code",
   "execution_count": 30,
   "id": "bf036c61-b120-4123-9f52-d7853259e2dd",
   "metadata": {},
   "outputs": [
    {
     "name": "stdout",
     "output_type": "stream",
     "text": [
      "Train Accuracy: 1.0\n",
      "CV Score: 0.8070679806666249\n"
     ]
    }
   ],
   "source": [
    "from sklearn.ensemble import RandomForestClassifier\n",
    "model_rf=RandomForestClassifier(random_state=8)\n",
    "model_rf.fit(X_train,y_train)\n",
    "ypred_train=model_rf.predict(X_train)\n",
    "print('Train Accuracy:',accuracy_score(ypred_train,y_train))\n",
    "print('CV Score:',cross_val_score(model_rf,X,y).mean())"
   ]
  },
  {
   "cell_type": "code",
   "execution_count": 31,
   "id": "e5ef8c31-e693-4a7d-87c3-3b4f7bc3563d",
   "metadata": {},
   "outputs": [
    {
     "data": {
      "text/plain": [
       "{'n_estimators': 45}"
      ]
     },
     "execution_count": 31,
     "metadata": {},
     "output_type": "execute_result"
    }
   ],
   "source": [
    "estimator_rf=RandomForestClassifier(random_state=8)\n",
    "param_grid={'n_estimators':list(range(1,50))}\n",
    "grid_rf=GridSearchCV(estimator_rf,param_grid)\n",
    "grid_rf.fit(X_train,y_train)\n",
    "grid_rf.best_params_"
   ]
  },
  {
   "cell_type": "code",
   "execution_count": 32,
   "id": "e47c6e32-5e26-4ad1-a954-c1d571559070",
   "metadata": {},
   "outputs": [
    {
     "data": {
      "text/plain": [
       "['PassengerId', 'Pclass', 'Sex', 'Age', 'SibSp', 'Parch', 'Fare', 'Embarked']"
      ]
     },
     "execution_count": 32,
     "metadata": {},
     "output_type": "execute_result"
    }
   ],
   "source": [
    "feats_rf=pd.DataFrame(data=grid_rf.best_estimator_.feature_importances_,index=X.columns,columns=['Importance'])\n",
    "important_feature_list_rf=feats_rf[feats_rf['Importance']>0].index.tolist()\n",
    "important_feature_list_rf"
   ]
  },
  {
   "cell_type": "code",
   "execution_count": 33,
   "id": "a61a57a7-f9a7-4514-85fb-f0bb8f967895",
   "metadata": {},
   "outputs": [
    {
     "name": "stdout",
     "output_type": "stream",
     "text": [
      "Train Accuracy: 0.9971910112359551\n",
      "Cross Validation Score: 0.792524009792229\n"
     ]
    }
   ],
   "source": [
    "X_imp_rf=X[important_feature_list_rf]\n",
    "X_train_rf,X_test_rf,y_train_rf,y_test_rf=train_test_split(X_imp_rf,y,test_size=0.2,random_state=8)\n",
    "final_rf=RandomForestClassifier(n_estimators=45,random_state=8)\n",
    "final_rf.fit(X_train_rf,y_train_rf)\n",
    "ypred_train_rf=final_rf.predict(X_train_rf)\n",
    "\n",
    "print('Train Accuracy:',accuracy_score(ypred_train_rf,y_train_rf))\n",
    "\n",
    "print('Cross Validation Score:',cross_val_score(final_rf,X_imp_rf,y).mean())"
   ]
  },
  {
   "cell_type": "markdown",
   "id": "5d301fa2-6476-4c48-98b2-4bcd0633f3a6",
   "metadata": {},
   "source": [
    "6.Boosting\n",
    "-"
   ]
  },
  {
   "cell_type": "code",
   "execution_count": 34,
   "id": "3523f6fc-c50b-4baa-a5f7-ef8f9734a3bb",
   "metadata": {},
   "outputs": [
    {
     "name": "stdout",
     "output_type": "stream",
     "text": [
      "Train Accuracy: 0.824438202247191\n",
      "CV Score: 0.7678049086686334\n"
     ]
    }
   ],
   "source": [
    "from sklearn.ensemble import AdaBoostClassifier\n",
    "Ada=AdaBoostClassifier(random_state=8)\n",
    "Ada.fit(X_train,y_train)\n",
    "ypred_train=Ada.predict(X_train)\n",
    "print('Train Accuracy:',accuracy_score(ypred_train,y_train))\n",
    "print('CV Score:',cross_val_score(Ada,X,y).mean())"
   ]
  },
  {
   "cell_type": "code",
   "execution_count": 35,
   "id": "ebab5a3f-8fc2-4d50-bca9-9dcab9c9a6b8",
   "metadata": {},
   "outputs": [
    {
     "data": {
      "text/plain": [
       "{'n_estimators': 11}"
      ]
     },
     "execution_count": 35,
     "metadata": {},
     "output_type": "execute_result"
    }
   ],
   "source": [
    "from sklearn.ensemble import AdaBoostClassifier\n",
    "estimator_Ada=AdaBoostClassifier(random_state=8)\n",
    "param_grid={'n_estimators':list(range(1,50))}\n",
    "grid_Ada=GridSearchCV(estimator_Ada,param_grid)\n",
    "grid_Ada.fit(X_train,y_train)\n",
    "grid_Ada.best_params_"
   ]
  },
  {
   "cell_type": "code",
   "execution_count": 36,
   "id": "b3f2c0da-57aa-4a0c-bd3b-033238785c30",
   "metadata": {},
   "outputs": [
    {
     "data": {
      "text/plain": [
       "['Pclass', 'Sex', 'Age', 'SibSp', 'Fare']"
      ]
     },
     "execution_count": 36,
     "metadata": {},
     "output_type": "execute_result"
    }
   ],
   "source": [
    "feats_Ada=pd.DataFrame(data=grid_Ada.best_estimator_.feature_importances_,index=X.columns,columns=['Importance'])\n",
    "imp_features_list_Ada=feats_Ada[feats_Ada['Importance']>0].index.tolist()\n",
    "imp_features_list_Ada"
   ]
  },
  {
   "cell_type": "code",
   "execution_count": 37,
   "id": "c6418c19-3b3c-4836-9e74-46e43f2f0d09",
   "metadata": {},
   "outputs": [
    {
     "name": "stdout",
     "output_type": "stream",
     "text": [
      "Train Accuracy: 0.8188202247191011\n",
      "Cross Validation score: 0.8024543343167411\n"
     ]
    }
   ],
   "source": [
    "X_imp_Ada=X[imp_features_list_Ada]\n",
    "Ada_boost=AdaBoostClassifier(n_estimators=11)\n",
    "Ada_boost.fit(X_train,y_train)\n",
    "ypred_train_Ada=Ada_boost.predict(X_train)\n",
    "\n",
    "print('Train Accuracy:',accuracy_score(ypred_train_Ada,y_train))\n",
    "\n",
    "print('Cross Validation score:',cross_val_score(Ada_boost,X_imp_Ada,y).mean())"
   ]
  },
  {
   "cell_type": "markdown",
   "id": "89e9dd4e-02b1-4edf-a4a3-07f317e72b56",
   "metadata": {},
   "source": [
    "7.GradientBoosting\n",
    "-"
   ]
  },
  {
   "cell_type": "code",
   "execution_count": 38,
   "id": "5f87032d-f57d-4406-b354-97ef0ed7feb3",
   "metadata": {},
   "outputs": [
    {
     "name": "stdout",
     "output_type": "stream",
     "text": [
      "Train Accuracy: 0.9283707865168539\n",
      "CV Score: 0.7802083987194777\n"
     ]
    }
   ],
   "source": [
    "from sklearn.ensemble import GradientBoostingClassifier\n",
    "estimator=GradientBoostingClassifier(random_state=8)\n",
    "estimator.fit(X_train,y_train)\n",
    "ypred_train=estimator.predict(X_train)\n",
    "print('Train Accuracy:',accuracy_score(ypred_train,y_train))\n",
    "print('CV Score:',cross_val_score(estimator,X,y).mean())"
   ]
  },
  {
   "cell_type": "code",
   "execution_count": 39,
   "id": "1a42a494-167d-490f-99ab-5c06da1f299c",
   "metadata": {},
   "outputs": [
    {
     "data": {
      "text/plain": [
       "{'learning_rate': 0.3, 'n_estimators': 8}"
      ]
     },
     "execution_count": 39,
     "metadata": {},
     "output_type": "execute_result"
    }
   ],
   "source": [
    "from sklearn.ensemble import GradientBoostingClassifier\n",
    "estimator=GradientBoostingClassifier(random_state=8)\n",
    "param_grid={'n_estimators':list(range(1,30)),'learning_rate':[0.1,0.2,0.3,0.4,0.5,0.6,0.7,0.8,0.9,1]}\n",
    "grid_db=GridSearchCV(estimator,param_grid)\n",
    "grid_db.fit(X_train,y_train)\n",
    "grid_db.best_params_"
   ]
  },
  {
   "cell_type": "code",
   "execution_count": 40,
   "id": "63b81a06-0f88-415f-872a-14280d7acd59",
   "metadata": {},
   "outputs": [
    {
     "data": {
      "text/plain": [
       "['PassengerId', 'Pclass', 'Sex', 'Age', 'SibSp', 'Fare', 'Embarked']"
      ]
     },
     "execution_count": 40,
     "metadata": {},
     "output_type": "execute_result"
    }
   ],
   "source": [
    "feats_gb=pd.DataFrame(data=grid_db.best_estimator_.feature_importances_,index=X.columns,columns=['Importance'])\n",
    "imp_feature_gb=feats_gb[feats_gb['Importance']>0].index.tolist()\n",
    "imp_feature_gb"
   ]
  },
  {
   "cell_type": "code",
   "execution_count": 41,
   "id": "983ce923-1569-4561-b7a1-3034eab69f41",
   "metadata": {},
   "outputs": [
    {
     "name": "stdout",
     "output_type": "stream",
     "text": [
      "Train Accuracy: 0.8497191011235955\n",
      "Cross Validation Score: 0.7869123093340028\n"
     ]
    }
   ],
   "source": [
    "X_imp_gb=X[imp_feature_gb]\n",
    "X_train_gb,X_test_gb,y_train_gb,y_test_gb=train_test_split(X_imp_gb,y,test_size=0.2,random_state=8)\n",
    "estimator_gb=GradientBoostingClassifier(learning_rate=0.3,n_estimators=8)\n",
    "estimator_gb.fit(X_train_gb,y_train_gb)\n",
    "ypred_train_gb=estimator_gb.predict(X_train_gb)\n",
    "\n",
    "print('Train Accuracy:',accuracy_score(ypred_train_gb,y_train_gb))\n",
    "\n",
    "print('Cross Validation Score:',cross_val_score(estimator_gb,X_imp_gb,y).mean())"
   ]
  },
  {
   "cell_type": "markdown",
   "id": "f6e06d38-05ae-4994-9daf-160b4861993b",
   "metadata": {},
   "source": [
    "8.XGBoost\n",
    "-"
   ]
  },
  {
   "cell_type": "code",
   "execution_count": 42,
   "id": "bcf953c9-6756-466c-a528-3cb71d7698fb",
   "metadata": {},
   "outputs": [
    {
     "name": "stdout",
     "output_type": "stream",
     "text": [
      "Trai Accuracy: 0.9985955056179775\n",
      "CV Score: 0.786880923984684\n"
     ]
    }
   ],
   "source": [
    "from xgboost import XGBClassifier\n",
    "estimator_xg=XGBClassifier(random_state=8)\n",
    "estimator_xg.fit(X_train,y_train)\n",
    "ypred_train=estimator_xg.predict(X_train)\n",
    "print('Trai Accuracy:',accuracy_score(ypred_train,y_train))\n",
    "print('CV Score:',cross_val_score(estimator_xg,X,y).mean())"
   ]
  },
  {
   "cell_type": "code",
   "execution_count": 43,
   "id": "fc37a856-ed67-46ad-9f12-a96c7234eae9",
   "metadata": {},
   "outputs": [
    {
     "data": {
      "text/plain": [
       "{'gamma': 0.25, 'max_depth': 3, 'n_estimators': 20}"
      ]
     },
     "execution_count": 43,
     "metadata": {},
     "output_type": "execute_result"
    }
   ],
   "source": [
    "from xgboost import XGBClassifier\n",
    "estimator_xgb=XGBClassifier(random_state=8)\n",
    "param_grid={'n_estimators':[10,20,30,40,50],'max_depth':[1,2,3,4,5,6],'gamma':[0,0.15,0.25,0.5,0.6,1]}\n",
    "grid_xgb=GridSearchCV(estimator_xgb,param_grid)\n",
    "grid_xgb.fit(X_train,y_train)\n",
    "grid_xgb.best_params_"
   ]
  },
  {
   "cell_type": "code",
   "execution_count": 44,
   "id": "7d26d38d-c207-4df7-a550-494c5214a5a8",
   "metadata": {},
   "outputs": [
    {
     "data": {
      "text/plain": [
       "['PassengerId', 'Pclass', 'Sex', 'Age', 'SibSp', 'Fare', 'Embarked']"
      ]
     },
     "execution_count": 44,
     "metadata": {},
     "output_type": "execute_result"
    }
   ],
   "source": [
    "feats_xgb=pd.DataFrame(data=grid_xgb.best_estimator_.feature_importances_,index=X.columns,columns=['Importance'])\n",
    "imp_feature_xgb=feats_xgb[feats_xgb['Importance']>0].index.tolist()\n",
    "imp_feature_xgb"
   ]
  },
  {
   "cell_type": "code",
   "execution_count": 45,
   "id": "70e1f145-bb23-4088-8683-a634402998c9",
   "metadata": {},
   "outputs": [
    {
     "name": "stdout",
     "output_type": "stream",
     "text": [
      "Train Accuracy: 0.8848314606741573\n",
      "Cross Validation Score: 0.7802083987194778\n"
     ]
    }
   ],
   "source": [
    "X_imp_xgb=X[imp_feature_xgb]\n",
    "X_train_xgb,X_test_xgb,y_train_xgb,y_test_xgb=train_test_split(X_imp_xgb,y,test_size=0.2,random_state=8)\n",
    "estimator_xgb=XGBClassifier(n_estimators=20,max_depth=3,gamma=0.25)\n",
    "estimator_xgb.fit(X_train_xgb,y_train_xgb)\n",
    "ypred_train_xgb=estimator_xgb.predict(X_train_xgb)\n",
    "\n",
    "print('Train Accuracy:',accuracy_score(ypred_train_xgb,y_train_xgb))\n",
    "\n",
    "print('Cross Validation Score:',cross_val_score(estimator_xgb,X_imp_xgb,y).mean())"
   ]
  },
  {
   "cell_type": "code",
   "execution_count": 46,
   "id": "823644f7-68a6-40d5-a8a4-ca8d4d07a289",
   "metadata": {},
   "outputs": [],
   "source": [
    "Ada=AdaBoostClassifier(n_estimators=11)"
   ]
  },
  {
   "cell_type": "code",
   "execution_count": 47,
   "id": "acd26760-cd1e-48d7-8845-5c384236a68c",
   "metadata": {},
   "outputs": [
    {
     "data": {
      "image/png": "[encoded data removed]",
      "text/plain": [
       "<Figure size 2800x2400 with 1 Axes>"
      ]
     },
     "metadata": {},
     "output_type": "display_data"
    }
   ],
   "source": [
    "plt.figure(figsize=(14,12),dpi=200)\n",
    "sns.barplot(data=feats_Ada[feats_Ada['Importance']>0].sort_values('Importance'),x=feats_Ada[feats_Ada['Importance']>0].index,y='Importance')\n",
    "plt.xticks(rotation=90)\n",
    "plt.xlabel('Importance')\n",
    "plt.show()"
   ]
  },
  {
   "cell_type": "code",
   "execution_count": 48,
   "id": "46fad336-4235-41bd-820e-691e4755ebaa",
   "metadata": {},
   "outputs": [
    {
     "data": {
      "text/plain": [
       "array([[394,  47],\n",
       "       [ 82, 189]], dtype=int64)"
      ]
     },
     "execution_count": 48,
     "metadata": {},
     "output_type": "execute_result"
    }
   ],
   "source": [
    "from sklearn.metrics import confusion_matrix\n",
    "confusion_matrix(y_train,ypred_train_Ada)"
   ]
  },
  {
   "cell_type": "code",
   "execution_count": 49,
   "id": "099ab460-b662-44e3-9fd4-070fca4898ef",
   "metadata": {},
   "outputs": [
    {
     "name": "stdout",
     "output_type": "stream",
     "text": [
      "              precision    recall  f1-score   support\n",
      "\n",
      "           0       0.83      0.89      0.86       441\n",
      "           1       0.80      0.70      0.75       271\n",
      "\n",
      "    accuracy                           0.82       712\n",
      "   macro avg       0.81      0.80      0.80       712\n",
      "weighted avg       0.82      0.82      0.82       712\n",
      "\n"
     ]
    }
   ],
   "source": [
    "from sklearn.metrics import classification_report\n",
    "print(classification_report(y_train,ypred_train_Ada))"
   ]
  },
  {
   "cell_type": "code",
   "execution_count": 50,
   "id": "2039aad0-a5c1-485e-9ffb-ebc26af9dc3a",
   "metadata": {},
   "outputs": [],
   "source": [
    "#DT boosting classifier"
   ]
  },
  {
   "cell_type": "code",
   "execution_count": 51,
   "id": "2173203d-4721-4c9f-a003-cca7e9c8256b",
   "metadata": {},
   "outputs": [
    {
     "data": {
      "text/plain": [
       "['Titanic.joblib']"
      ]
     },
     "execution_count": 51,
     "metadata": {},
     "output_type": "execute_result"
    }
   ],
   "source": [
    "from joblib import dump\n",
    "dump(final_dt,'Titanic.joblib')"
   ]
  },
  {
   "cell_type": "code",
   "execution_count": null,
   "id": "a93d418c-8610-4760-9cf2-c2743d39fe71",
   "metadata": {},
   "outputs": [],
   "source": []
  }
 ],
 "metadata": {
  "kernelspec": {
   "display_name": "Python 3 (ipykernel)",
   "language": "python",
   "name": "python3"
  },
  "language_info": {
   "codemirror_mode": {
    "name": "ipython",
    "version": 3
   },
   "file_extension": ".py",
   "mimetype": "text/x-python",
   "name": "python",
   "nbconvert_exporter": "python",
   "pygments_lexer": "ipython3",
   "version": "3.12.7"
  }
 },
 "nbformat": 4,
 "nbformat_minor": 5
}
